{
 "cells": [
  {
   "cell_type": "markdown",
   "id": "ed5ba4d3",
   "metadata": {
    "papermill": {
     "duration": 0.007402,
     "end_time": "2024-08-09T21:05:33.657831",
     "exception": false,
     "start_time": "2024-08-09T21:05:33.650429",
     "status": "completed"
    },
    "tags": []
   },
   "source": [
    "# <p style=\"background-color: #6A5ACD; font-family:calibri; color:#FFFFFF; font-size:140%; font-family:Monospace; text-align:center; border-radius:15px 50px;\">Importing Necessary Libraries</p>"
   ]
  },
  {
   "cell_type": "code",
   "execution_count": 1,
   "id": "f5a23dca",
   "metadata": {
    "execution": {
     "iopub.execute_input": "2024-08-09T21:05:33.673803Z",
     "iopub.status.busy": "2024-08-09T21:05:33.673278Z",
     "iopub.status.idle": "2024-08-09T21:05:36.988947Z",
     "shell.execute_reply": "2024-08-09T21:05:36.987426Z"
    },
    "papermill": {
     "duration": 3.327321,
     "end_time": "2024-08-09T21:05:36.992202",
     "exception": false,
     "start_time": "2024-08-09T21:05:33.664881",
     "status": "completed"
    },
    "tags": []
   },
   "outputs": [],
   "source": [
    "import numpy as np\n",
    "import pandas as pd\n",
    "import matplotlib.pyplot as plt\n",
    "import seaborn as sns\n",
    "\n",
    "from sklearn.preprocessing import MinMaxScaler\n",
    "from sklearn.model_selection import train_test_split, GridSearchCV\n",
    "from sklearn.linear_model import LinearRegression, Ridge, Lasso\n",
    "from sklearn.preprocessing import PolynomialFeatures\n",
    "from sklearn.tree import DecisionTreeRegressor\n",
    "from sklearn.ensemble import RandomForestRegressor\n",
    "from sklearn.svm import SVR\n",
    "from sklearn.metrics import mean_squared_error, r2_score\n",
    "\n",
    "import xgboost as xgb"
   ]
  },
  {
   "cell_type": "markdown",
   "id": "452cdd26",
   "metadata": {
    "papermill": {
     "duration": 0.006729,
     "end_time": "2024-08-09T21:05:37.006207",
     "exception": false,
     "start_time": "2024-08-09T21:05:36.999478",
     "status": "completed"
    },
    "tags": []
   },
   "source": [
    "# <p style=\"background-color: #6A5ACD; font-family:calibri; color:#FFFFFF; font-size:140%; font-family:Monospace; text-align:center; border-radius:15px 50px;\">Loading The Data</p>"
   ]
  },
  {
   "cell_type": "code",
   "execution_count": 2,
   "id": "b227f1f8",
   "metadata": {
    "execution": {
     "iopub.execute_input": "2024-08-09T21:05:37.022504Z",
     "iopub.status.busy": "2024-08-09T21:05:37.021829Z",
     "iopub.status.idle": "2024-08-09T21:05:37.080242Z",
     "shell.execute_reply": "2024-08-09T21:05:37.078702Z"
    },
    "papermill": {
     "duration": 0.069976,
     "end_time": "2024-08-09T21:05:37.083100",
     "exception": false,
     "start_time": "2024-08-09T21:05:37.013124",
     "status": "completed"
    },
    "tags": []
   },
   "outputs": [
    {
     "data": {
      "text/html": [
       "<div>\n",
       "<style scoped>\n",
       "    .dataframe tbody tr th:only-of-type {\n",
       "        vertical-align: middle;\n",
       "    }\n",
       "\n",
       "    .dataframe tbody tr th {\n",
       "        vertical-align: top;\n",
       "    }\n",
       "\n",
       "    .dataframe thead th {\n",
       "        text-align: right;\n",
       "    }\n",
       "</style>\n",
       "<table border=\"1\" class=\"dataframe\">\n",
       "  <thead>\n",
       "    <tr style=\"text-align: right;\">\n",
       "      <th></th>\n",
       "      <th>TV</th>\n",
       "      <th>Radio</th>\n",
       "      <th>Newspaper</th>\n",
       "      <th>Sales</th>\n",
       "    </tr>\n",
       "  </thead>\n",
       "  <tbody>\n",
       "    <tr>\n",
       "      <th>0</th>\n",
       "      <td>230.1</td>\n",
       "      <td>37.8</td>\n",
       "      <td>69.2</td>\n",
       "      <td>22.1</td>\n",
       "    </tr>\n",
       "    <tr>\n",
       "      <th>1</th>\n",
       "      <td>44.5</td>\n",
       "      <td>39.3</td>\n",
       "      <td>45.1</td>\n",
       "      <td>10.4</td>\n",
       "    </tr>\n",
       "    <tr>\n",
       "      <th>2</th>\n",
       "      <td>17.2</td>\n",
       "      <td>45.9</td>\n",
       "      <td>69.3</td>\n",
       "      <td>12.0</td>\n",
       "    </tr>\n",
       "    <tr>\n",
       "      <th>3</th>\n",
       "      <td>151.5</td>\n",
       "      <td>41.3</td>\n",
       "      <td>58.5</td>\n",
       "      <td>16.5</td>\n",
       "    </tr>\n",
       "    <tr>\n",
       "      <th>4</th>\n",
       "      <td>180.8</td>\n",
       "      <td>10.8</td>\n",
       "      <td>58.4</td>\n",
       "      <td>17.9</td>\n",
       "    </tr>\n",
       "    <tr>\n",
       "      <th>...</th>\n",
       "      <td>...</td>\n",
       "      <td>...</td>\n",
       "      <td>...</td>\n",
       "      <td>...</td>\n",
       "    </tr>\n",
       "    <tr>\n",
       "      <th>195</th>\n",
       "      <td>38.2</td>\n",
       "      <td>3.7</td>\n",
       "      <td>13.8</td>\n",
       "      <td>7.6</td>\n",
       "    </tr>\n",
       "    <tr>\n",
       "      <th>196</th>\n",
       "      <td>94.2</td>\n",
       "      <td>4.9</td>\n",
       "      <td>8.1</td>\n",
       "      <td>14.0</td>\n",
       "    </tr>\n",
       "    <tr>\n",
       "      <th>197</th>\n",
       "      <td>177.0</td>\n",
       "      <td>9.3</td>\n",
       "      <td>6.4</td>\n",
       "      <td>14.8</td>\n",
       "    </tr>\n",
       "    <tr>\n",
       "      <th>198</th>\n",
       "      <td>283.6</td>\n",
       "      <td>42.0</td>\n",
       "      <td>66.2</td>\n",
       "      <td>25.5</td>\n",
       "    </tr>\n",
       "    <tr>\n",
       "      <th>199</th>\n",
       "      <td>232.1</td>\n",
       "      <td>8.6</td>\n",
       "      <td>8.7</td>\n",
       "      <td>18.4</td>\n",
       "    </tr>\n",
       "  </tbody>\n",
       "</table>\n",
       "<p>200 rows × 4 columns</p>\n",
       "</div>"
      ],
      "text/plain": [
       "        TV  Radio  Newspaper  Sales\n",
       "0    230.1   37.8       69.2   22.1\n",
       "1     44.5   39.3       45.1   10.4\n",
       "2     17.2   45.9       69.3   12.0\n",
       "3    151.5   41.3       58.5   16.5\n",
       "4    180.8   10.8       58.4   17.9\n",
       "..     ...    ...        ...    ...\n",
       "195   38.2    3.7       13.8    7.6\n",
       "196   94.2    4.9        8.1   14.0\n",
       "197  177.0    9.3        6.4   14.8\n",
       "198  283.6   42.0       66.2   25.5\n",
       "199  232.1    8.6        8.7   18.4\n",
       "\n",
       "[200 rows x 4 columns]"
      ]
     },
     "execution_count": 2,
     "metadata": {},
     "output_type": "execute_result"
    }
   ],
   "source": [
    "df = pd.read_csv('/kaggle/input/advertising-dataset/advertising.csv')\n",
    "df"
   ]
  },
  {
   "cell_type": "markdown",
   "id": "80d12925",
   "metadata": {
    "papermill": {
     "duration": 0.007361,
     "end_time": "2024-08-09T21:05:37.098216",
     "exception": false,
     "start_time": "2024-08-09T21:05:37.090855",
     "status": "completed"
    },
    "tags": []
   },
   "source": [
    "# <p style=\"background-color: #6A5ACD; font-family:calibri; color:#FFFFFF; font-size:140%; font-family:Monospace; text-align:center; border-radius:15px 50px;\">EDA</p>"
   ]
  },
  {
   "cell_type": "code",
   "execution_count": 3,
   "id": "0c3686ce",
   "metadata": {
    "execution": {
     "iopub.execute_input": "2024-08-09T21:05:37.115649Z",
     "iopub.status.busy": "2024-08-09T21:05:37.115108Z",
     "iopub.status.idle": "2024-08-09T21:05:37.131137Z",
     "shell.execute_reply": "2024-08-09T21:05:37.129873Z"
    },
    "papermill": {
     "duration": 0.028468,
     "end_time": "2024-08-09T21:05:37.133905",
     "exception": false,
     "start_time": "2024-08-09T21:05:37.105437",
     "status": "completed"
    },
    "tags": []
   },
   "outputs": [
    {
     "data": {
      "text/html": [
       "<div>\n",
       "<style scoped>\n",
       "    .dataframe tbody tr th:only-of-type {\n",
       "        vertical-align: middle;\n",
       "    }\n",
       "\n",
       "    .dataframe tbody tr th {\n",
       "        vertical-align: top;\n",
       "    }\n",
       "\n",
       "    .dataframe thead th {\n",
       "        text-align: right;\n",
       "    }\n",
       "</style>\n",
       "<table border=\"1\" class=\"dataframe\">\n",
       "  <thead>\n",
       "    <tr style=\"text-align: right;\">\n",
       "      <th></th>\n",
       "      <th>TV</th>\n",
       "      <th>Radio</th>\n",
       "      <th>Newspaper</th>\n",
       "      <th>Sales</th>\n",
       "    </tr>\n",
       "  </thead>\n",
       "  <tbody>\n",
       "    <tr>\n",
       "      <th>0</th>\n",
       "      <td>230.1</td>\n",
       "      <td>37.8</td>\n",
       "      <td>69.2</td>\n",
       "      <td>22.1</td>\n",
       "    </tr>\n",
       "    <tr>\n",
       "      <th>1</th>\n",
       "      <td>44.5</td>\n",
       "      <td>39.3</td>\n",
       "      <td>45.1</td>\n",
       "      <td>10.4</td>\n",
       "    </tr>\n",
       "    <tr>\n",
       "      <th>2</th>\n",
       "      <td>17.2</td>\n",
       "      <td>45.9</td>\n",
       "      <td>69.3</td>\n",
       "      <td>12.0</td>\n",
       "    </tr>\n",
       "    <tr>\n",
       "      <th>3</th>\n",
       "      <td>151.5</td>\n",
       "      <td>41.3</td>\n",
       "      <td>58.5</td>\n",
       "      <td>16.5</td>\n",
       "    </tr>\n",
       "    <tr>\n",
       "      <th>4</th>\n",
       "      <td>180.8</td>\n",
       "      <td>10.8</td>\n",
       "      <td>58.4</td>\n",
       "      <td>17.9</td>\n",
       "    </tr>\n",
       "  </tbody>\n",
       "</table>\n",
       "</div>"
      ],
      "text/plain": [
       "      TV  Radio  Newspaper  Sales\n",
       "0  230.1   37.8       69.2   22.1\n",
       "1   44.5   39.3       45.1   10.4\n",
       "2   17.2   45.9       69.3   12.0\n",
       "3  151.5   41.3       58.5   16.5\n",
       "4  180.8   10.8       58.4   17.9"
      ]
     },
     "execution_count": 3,
     "metadata": {},
     "output_type": "execute_result"
    }
   ],
   "source": [
    "#first 5 rows\n",
    "df.head()"
   ]
  },
  {
   "cell_type": "code",
   "execution_count": 4,
   "id": "e8797fa3",
   "metadata": {
    "execution": {
     "iopub.execute_input": "2024-08-09T21:05:37.151120Z",
     "iopub.status.busy": "2024-08-09T21:05:37.150674Z",
     "iopub.status.idle": "2024-08-09T21:05:37.158817Z",
     "shell.execute_reply": "2024-08-09T21:05:37.157503Z"
    },
    "papermill": {
     "duration": 0.019866,
     "end_time": "2024-08-09T21:05:37.161432",
     "exception": false,
     "start_time": "2024-08-09T21:05:37.141566",
     "status": "completed"
    },
    "tags": []
   },
   "outputs": [
    {
     "data": {
      "text/plain": [
       "(200, 4)"
      ]
     },
     "execution_count": 4,
     "metadata": {},
     "output_type": "execute_result"
    }
   ],
   "source": [
    "#shape of the data\n",
    "df.shape"
   ]
  },
  {
   "cell_type": "code",
   "execution_count": 5,
   "id": "2bd32584",
   "metadata": {
    "execution": {
     "iopub.execute_input": "2024-08-09T21:05:37.179570Z",
     "iopub.status.busy": "2024-08-09T21:05:37.179101Z",
     "iopub.status.idle": "2024-08-09T21:05:37.189139Z",
     "shell.execute_reply": "2024-08-09T21:05:37.187683Z"
    },
    "papermill": {
     "duration": 0.023592,
     "end_time": "2024-08-09T21:05:37.192977",
     "exception": false,
     "start_time": "2024-08-09T21:05:37.169385",
     "status": "completed"
    },
    "tags": []
   },
   "outputs": [
    {
     "data": {
      "text/plain": [
       "TV           float64\n",
       "Radio        float64\n",
       "Newspaper    float64\n",
       "Sales        float64\n",
       "dtype: object"
      ]
     },
     "execution_count": 5,
     "metadata": {},
     "output_type": "execute_result"
    }
   ],
   "source": [
    "#data types of the columns\n",
    "df.dtypes"
   ]
  },
  {
   "cell_type": "code",
   "execution_count": 6,
   "id": "ea0b2e5a",
   "metadata": {
    "execution": {
     "iopub.execute_input": "2024-08-09T21:05:37.212130Z",
     "iopub.status.busy": "2024-08-09T21:05:37.211704Z",
     "iopub.status.idle": "2024-08-09T21:05:37.249814Z",
     "shell.execute_reply": "2024-08-09T21:05:37.248220Z"
    },
    "papermill": {
     "duration": 0.050908,
     "end_time": "2024-08-09T21:05:37.252710",
     "exception": false,
     "start_time": "2024-08-09T21:05:37.201802",
     "status": "completed"
    },
    "tags": []
   },
   "outputs": [
    {
     "data": {
      "text/html": [
       "<div>\n",
       "<style scoped>\n",
       "    .dataframe tbody tr th:only-of-type {\n",
       "        vertical-align: middle;\n",
       "    }\n",
       "\n",
       "    .dataframe tbody tr th {\n",
       "        vertical-align: top;\n",
       "    }\n",
       "\n",
       "    .dataframe thead th {\n",
       "        text-align: right;\n",
       "    }\n",
       "</style>\n",
       "<table border=\"1\" class=\"dataframe\">\n",
       "  <thead>\n",
       "    <tr style=\"text-align: right;\">\n",
       "      <th></th>\n",
       "      <th>count</th>\n",
       "      <th>mean</th>\n",
       "      <th>std</th>\n",
       "      <th>min</th>\n",
       "      <th>25%</th>\n",
       "      <th>50%</th>\n",
       "      <th>75%</th>\n",
       "      <th>max</th>\n",
       "    </tr>\n",
       "  </thead>\n",
       "  <tbody>\n",
       "    <tr>\n",
       "      <th>TV</th>\n",
       "      <td>200.0</td>\n",
       "      <td>147.0425</td>\n",
       "      <td>85.854236</td>\n",
       "      <td>0.7</td>\n",
       "      <td>74.375</td>\n",
       "      <td>149.75</td>\n",
       "      <td>218.825</td>\n",
       "      <td>296.4</td>\n",
       "    </tr>\n",
       "    <tr>\n",
       "      <th>Radio</th>\n",
       "      <td>200.0</td>\n",
       "      <td>23.2640</td>\n",
       "      <td>14.846809</td>\n",
       "      <td>0.0</td>\n",
       "      <td>9.975</td>\n",
       "      <td>22.90</td>\n",
       "      <td>36.525</td>\n",
       "      <td>49.6</td>\n",
       "    </tr>\n",
       "    <tr>\n",
       "      <th>Newspaper</th>\n",
       "      <td>200.0</td>\n",
       "      <td>30.5540</td>\n",
       "      <td>21.778621</td>\n",
       "      <td>0.3</td>\n",
       "      <td>12.750</td>\n",
       "      <td>25.75</td>\n",
       "      <td>45.100</td>\n",
       "      <td>114.0</td>\n",
       "    </tr>\n",
       "    <tr>\n",
       "      <th>Sales</th>\n",
       "      <td>200.0</td>\n",
       "      <td>15.1305</td>\n",
       "      <td>5.283892</td>\n",
       "      <td>1.6</td>\n",
       "      <td>11.000</td>\n",
       "      <td>16.00</td>\n",
       "      <td>19.050</td>\n",
       "      <td>27.0</td>\n",
       "    </tr>\n",
       "  </tbody>\n",
       "</table>\n",
       "</div>"
      ],
      "text/plain": [
       "           count      mean        std  min     25%     50%      75%    max\n",
       "TV         200.0  147.0425  85.854236  0.7  74.375  149.75  218.825  296.4\n",
       "Radio      200.0   23.2640  14.846809  0.0   9.975   22.90   36.525   49.6\n",
       "Newspaper  200.0   30.5540  21.778621  0.3  12.750   25.75   45.100  114.0\n",
       "Sales      200.0   15.1305   5.283892  1.6  11.000   16.00   19.050   27.0"
      ]
     },
     "execution_count": 6,
     "metadata": {},
     "output_type": "execute_result"
    }
   ],
   "source": [
    "#statistical information about the data\n",
    "df.describe().T"
   ]
  },
  {
   "cell_type": "code",
   "execution_count": 7,
   "id": "c71455a2",
   "metadata": {
    "execution": {
     "iopub.execute_input": "2024-08-09T21:05:37.272805Z",
     "iopub.status.busy": "2024-08-09T21:05:37.271192Z",
     "iopub.status.idle": "2024-08-09T21:05:37.285948Z",
     "shell.execute_reply": "2024-08-09T21:05:37.284523Z"
    },
    "papermill": {
     "duration": 0.027834,
     "end_time": "2024-08-09T21:05:37.288922",
     "exception": false,
     "start_time": "2024-08-09T21:05:37.261088",
     "status": "completed"
    },
    "tags": []
   },
   "outputs": [
    {
     "data": {
      "text/plain": [
       "0"
      ]
     },
     "execution_count": 7,
     "metadata": {},
     "output_type": "execute_result"
    }
   ],
   "source": [
    "#check if there are any duplicated rows\n",
    "df.duplicated().sum()"
   ]
  },
  {
   "cell_type": "code",
   "execution_count": 8,
   "id": "bf9454ef",
   "metadata": {
    "execution": {
     "iopub.execute_input": "2024-08-09T21:05:37.307275Z",
     "iopub.status.busy": "2024-08-09T21:05:37.306882Z",
     "iopub.status.idle": "2024-08-09T21:05:37.317325Z",
     "shell.execute_reply": "2024-08-09T21:05:37.315821Z"
    },
    "papermill": {
     "duration": 0.02291,
     "end_time": "2024-08-09T21:05:37.320115",
     "exception": false,
     "start_time": "2024-08-09T21:05:37.297205",
     "status": "completed"
    },
    "tags": []
   },
   "outputs": [
    {
     "data": {
      "text/plain": [
       "TV           0\n",
       "Radio        0\n",
       "Newspaper    0\n",
       "Sales        0\n",
       "dtype: int64"
      ]
     },
     "execution_count": 8,
     "metadata": {},
     "output_type": "execute_result"
    }
   ],
   "source": [
    "#number of nulls in each column\n",
    "df.isnull().sum()"
   ]
  },
  {
   "cell_type": "code",
   "execution_count": 9,
   "id": "e6b09b8e",
   "metadata": {
    "execution": {
     "iopub.execute_input": "2024-08-09T21:05:37.339642Z",
     "iopub.status.busy": "2024-08-09T21:05:37.339091Z",
     "iopub.status.idle": "2024-08-09T21:05:37.359349Z",
     "shell.execute_reply": "2024-08-09T21:05:37.357835Z"
    },
    "papermill": {
     "duration": 0.034301,
     "end_time": "2024-08-09T21:05:37.362745",
     "exception": false,
     "start_time": "2024-08-09T21:05:37.328444",
     "status": "completed"
    },
    "tags": []
   },
   "outputs": [
    {
     "name": "stdout",
     "output_type": "stream",
     "text": [
      "<class 'pandas.core.frame.DataFrame'>\n",
      "RangeIndex: 200 entries, 0 to 199\n",
      "Data columns (total 4 columns):\n",
      " #   Column     Non-Null Count  Dtype  \n",
      "---  ------     --------------  -----  \n",
      " 0   TV         200 non-null    float64\n",
      " 1   Radio      200 non-null    float64\n",
      " 2   Newspaper  200 non-null    float64\n",
      " 3   Sales      200 non-null    float64\n",
      "dtypes: float64(4)\n",
      "memory usage: 6.4 KB\n"
     ]
    }
   ],
   "source": [
    "#information about the data\n",
    "df.info()"
   ]
  },
  {
   "cell_type": "code",
   "execution_count": 10,
   "id": "c1bd6805",
   "metadata": {
    "execution": {
     "iopub.execute_input": "2024-08-09T21:05:37.382562Z",
     "iopub.status.busy": "2024-08-09T21:05:37.382124Z",
     "iopub.status.idle": "2024-08-09T21:05:38.731445Z",
     "shell.execute_reply": "2024-08-09T21:05:38.729919Z"
    },
    "papermill": {
     "duration": 1.363513,
     "end_time": "2024-08-09T21:05:38.735093",
     "exception": false,
     "start_time": "2024-08-09T21:05:37.371580",
     "status": "completed"
    },
    "tags": []
   },
   "outputs": [
    {
     "data": {
      "text/plain": [
       "array([[<Axes: title={'center': 'TV'}>,\n",
       "        <Axes: title={'center': 'Radio'}>],\n",
       "       [<Axes: title={'center': 'Newspaper'}>,\n",
       "        <Axes: title={'center': 'Sales'}>]], dtype=object)"
      ]
     },
     "execution_count": 10,
     "metadata": {},
     "output_type": "execute_result"
    },
    {
     "data": {
      "image/png": "[encoded data removed]",
      "text/plain": [
       "<Figure size 1500x800 with 4 Axes>"
      ]
     },
     "metadata": {},
     "output_type": "display_data"
    }
   ],
   "source": [
    "#histograms for all the columns\n",
    "df.hist(bins = 15, figsize = (15, 8))"
   ]
  },
  {
   "cell_type": "code",
   "execution_count": 11,
   "id": "67273218",
   "metadata": {
    "execution": {
     "iopub.execute_input": "2024-08-09T21:05:38.758064Z",
     "iopub.status.busy": "2024-08-09T21:05:38.757616Z",
     "iopub.status.idle": "2024-08-09T21:05:39.961706Z",
     "shell.execute_reply": "2024-08-09T21:05:39.960347Z"
    },
    "papermill": {
     "duration": 1.218396,
     "end_time": "2024-08-09T21:05:39.964537",
     "exception": false,
     "start_time": "2024-08-09T21:05:38.746141",
     "status": "completed"
    },
    "tags": []
   },
   "outputs": [
    {
     "data": {
      "image/png": "[encoded data removed]",
      "text/plain": [
       "<Figure size 1800x500 with 3 Axes>"
      ]
     },
     "metadata": {},
     "output_type": "display_data"
    }
   ],
   "source": [
    "fig, axes = plt.subplots(1, 3, figsize=(18, 5))\n",
    "\n",
    "sns.regplot(x='TV', y='Sales', data=df, ax=axes[0])\n",
    "axes[0].set_title('TV vs Sales')\n",
    "\n",
    "sns.regplot(x='Radio', y='Sales', data=df, ax=axes[1])\n",
    "axes[1].set_title('Radio vs Sales')\n",
    "\n",
    "sns.regplot(x='Newspaper', y='Sales', data=df, ax=axes[2])\n",
    "axes[2].set_title('Newspaper vs Sales')\n",
    "\n",
    "plt.tight_layout()\n",
    "plt.show()"
   ]
  },
  {
   "cell_type": "code",
   "execution_count": 12,
   "id": "72b5991d",
   "metadata": {
    "execution": {
     "iopub.execute_input": "2024-08-09T21:05:39.991404Z",
     "iopub.status.busy": "2024-08-09T21:05:39.990371Z",
     "iopub.status.idle": "2024-08-09T21:05:40.371000Z",
     "shell.execute_reply": "2024-08-09T21:05:40.369491Z"
    },
    "papermill": {
     "duration": 0.397625,
     "end_time": "2024-08-09T21:05:40.374016",
     "exception": false,
     "start_time": "2024-08-09T21:05:39.976391",
     "status": "completed"
    },
    "tags": []
   },
   "outputs": [
    {
     "data": {
      "image/png": "[encoded data removed]",
      "text/plain": [
       "<Figure size 800x600 with 2 Axes>"
      ]
     },
     "metadata": {},
     "output_type": "display_data"
    }
   ],
   "source": [
    "corr = df.corr()\n",
    "plt.figure(figsize=(8, 6))\n",
    "sns.heatmap(corr, annot=True, cmap='coolwarm', fmt='.2f')\n",
    "plt.title('Correlation Matrix')\n",
    "plt.show()"
   ]
  },
  {
   "cell_type": "markdown",
   "id": "be428a51",
   "metadata": {
    "papermill": {
     "duration": 0.012682,
     "end_time": "2024-08-09T21:05:40.398835",
     "exception": false,
     "start_time": "2024-08-09T21:05:40.386153",
     "status": "completed"
    },
    "tags": []
   },
   "source": [
    "# <p style=\"background-color: #6A5ACD; font-family:calibri; color:#FFFFFF; font-size:140%; font-family:Monospace; text-align:center; border-radius:15px 50px;\">Data Pre-Processing</p>"
   ]
  },
  {
   "cell_type": "code",
   "execution_count": 13,
   "id": "813bb19b",
   "metadata": {
    "execution": {
     "iopub.execute_input": "2024-08-09T21:05:40.426145Z",
     "iopub.status.busy": "2024-08-09T21:05:40.424523Z",
     "iopub.status.idle": "2024-08-09T21:05:40.450357Z",
     "shell.execute_reply": "2024-08-09T21:05:40.448978Z"
    },
    "papermill": {
     "duration": 0.042624,
     "end_time": "2024-08-09T21:05:40.453469",
     "exception": false,
     "start_time": "2024-08-09T21:05:40.410845",
     "status": "completed"
    },
    "tags": []
   },
   "outputs": [
    {
     "data": {
      "text/html": [
       "<div>\n",
       "<style scoped>\n",
       "    .dataframe tbody tr th:only-of-type {\n",
       "        vertical-align: middle;\n",
       "    }\n",
       "\n",
       "    .dataframe tbody tr th {\n",
       "        vertical-align: top;\n",
       "    }\n",
       "\n",
       "    .dataframe thead th {\n",
       "        text-align: right;\n",
       "    }\n",
       "</style>\n",
       "<table border=\"1\" class=\"dataframe\">\n",
       "  <thead>\n",
       "    <tr style=\"text-align: right;\">\n",
       "      <th></th>\n",
       "      <th>TV</th>\n",
       "      <th>Radio</th>\n",
       "      <th>Newspaper</th>\n",
       "      <th>Sales</th>\n",
       "    </tr>\n",
       "  </thead>\n",
       "  <tbody>\n",
       "    <tr>\n",
       "      <th>0</th>\n",
       "      <td>0.775786</td>\n",
       "      <td>0.762097</td>\n",
       "      <td>0.605981</td>\n",
       "      <td>22.1</td>\n",
       "    </tr>\n",
       "    <tr>\n",
       "      <th>1</th>\n",
       "      <td>0.148123</td>\n",
       "      <td>0.792339</td>\n",
       "      <td>0.394019</td>\n",
       "      <td>10.4</td>\n",
       "    </tr>\n",
       "    <tr>\n",
       "      <th>2</th>\n",
       "      <td>0.055800</td>\n",
       "      <td>0.925403</td>\n",
       "      <td>0.606860</td>\n",
       "      <td>12.0</td>\n",
       "    </tr>\n",
       "    <tr>\n",
       "      <th>3</th>\n",
       "      <td>0.509976</td>\n",
       "      <td>0.832661</td>\n",
       "      <td>0.511873</td>\n",
       "      <td>16.5</td>\n",
       "    </tr>\n",
       "    <tr>\n",
       "      <th>4</th>\n",
       "      <td>0.609063</td>\n",
       "      <td>0.217742</td>\n",
       "      <td>0.510994</td>\n",
       "      <td>17.9</td>\n",
       "    </tr>\n",
       "    <tr>\n",
       "      <th>...</th>\n",
       "      <td>...</td>\n",
       "      <td>...</td>\n",
       "      <td>...</td>\n",
       "      <td>...</td>\n",
       "    </tr>\n",
       "    <tr>\n",
       "      <th>195</th>\n",
       "      <td>0.126818</td>\n",
       "      <td>0.074597</td>\n",
       "      <td>0.118734</td>\n",
       "      <td>7.6</td>\n",
       "    </tr>\n",
       "    <tr>\n",
       "      <th>196</th>\n",
       "      <td>0.316199</td>\n",
       "      <td>0.098790</td>\n",
       "      <td>0.068602</td>\n",
       "      <td>14.0</td>\n",
       "    </tr>\n",
       "    <tr>\n",
       "      <th>197</th>\n",
       "      <td>0.596212</td>\n",
       "      <td>0.187500</td>\n",
       "      <td>0.053650</td>\n",
       "      <td>14.8</td>\n",
       "    </tr>\n",
       "    <tr>\n",
       "      <th>198</th>\n",
       "      <td>0.956713</td>\n",
       "      <td>0.846774</td>\n",
       "      <td>0.579595</td>\n",
       "      <td>25.5</td>\n",
       "    </tr>\n",
       "    <tr>\n",
       "      <th>199</th>\n",
       "      <td>0.782550</td>\n",
       "      <td>0.173387</td>\n",
       "      <td>0.073879</td>\n",
       "      <td>18.4</td>\n",
       "    </tr>\n",
       "  </tbody>\n",
       "</table>\n",
       "<p>200 rows × 4 columns</p>\n",
       "</div>"
      ],
      "text/plain": [
       "           TV     Radio  Newspaper  Sales\n",
       "0    0.775786  0.762097   0.605981   22.1\n",
       "1    0.148123  0.792339   0.394019   10.4\n",
       "2    0.055800  0.925403   0.606860   12.0\n",
       "3    0.509976  0.832661   0.511873   16.5\n",
       "4    0.609063  0.217742   0.510994   17.9\n",
       "..        ...       ...        ...    ...\n",
       "195  0.126818  0.074597   0.118734    7.6\n",
       "196  0.316199  0.098790   0.068602   14.0\n",
       "197  0.596212  0.187500   0.053650   14.8\n",
       "198  0.956713  0.846774   0.579595   25.5\n",
       "199  0.782550  0.173387   0.073879   18.4\n",
       "\n",
       "[200 rows x 4 columns]"
      ]
     },
     "execution_count": 13,
     "metadata": {},
     "output_type": "execute_result"
    }
   ],
   "source": [
    "#scale the features\n",
    "features = ['TV', 'Radio', 'Newspaper']\n",
    "scaler = MinMaxScaler()\n",
    "df[features] = scaler.fit_transform(df[features])\n",
    "df"
   ]
  },
  {
   "cell_type": "markdown",
   "id": "bfa95dd9",
   "metadata": {
    "papermill": {
     "duration": 0.014281,
     "end_time": "2024-08-09T21:05:40.479968",
     "exception": false,
     "start_time": "2024-08-09T21:05:40.465687",
     "status": "completed"
    },
    "tags": []
   },
   "source": [
    "# <p style=\"background-color: #6A5ACD; font-family:calibri; color:#FFFFFF; font-size:140%; font-family:Monospace; text-align:center; border-radius:15px 50px;\">Modelling</p>"
   ]
  },
  {
   "cell_type": "code",
   "execution_count": 14,
   "id": "bd083554",
   "metadata": {
    "execution": {
     "iopub.execute_input": "2024-08-09T21:05:40.506804Z",
     "iopub.status.busy": "2024-08-09T21:05:40.506327Z",
     "iopub.status.idle": "2024-08-09T21:07:01.939835Z",
     "shell.execute_reply": "2024-08-09T21:07:01.938373Z"
    },
    "papermill": {
     "duration": 81.46239,
     "end_time": "2024-08-09T21:07:01.954919",
     "exception": false,
     "start_time": "2024-08-09T21:05:40.492529",
     "status": "completed"
    },
    "tags": []
   },
   "outputs": [
    {
     "name": "stdout",
     "output_type": "stream",
     "text": [
      "Training Linear Regression...\n",
      "Linear Regression - Train RMSE: 1.635892, Test RMSE: 1.705215\n",
      "Linear Regression - Train R2: 0.900142, Test R2: 0.905901\n",
      "Training Ridge Regression...\n",
      "Ridge Regression - Train RMSE: 1.636293, Test RMSE: 1.707447\n",
      "Ridge Regression - Train R2: 0.900093, Test R2: 0.905655\n",
      "Training Lasso Regression...\n",
      "Lasso Regression - Train RMSE: 1.705005, Test RMSE: 1.810350\n",
      "Lasso Regression - Train R2: 0.891526, Test R2: 0.893940\n",
      "Training Decision Tree Regression...\n",
      "Decision Tree Regression - Train RMSE: 0.000000, Test RMSE: 1.713257\n",
      "Decision Tree Regression - Train R2: 1.000000, Test R2: 0.905011\n",
      "Training Random Forest Regression...\n",
      "Random Forest Regression - Train RMSE: 0.485806, Test RMSE: 1.259075\n",
      "Random Forest Regression - Train R2: 0.991194, Test R2: 0.948699\n",
      "Training SVR...\n",
      "SVR - Train RMSE: 1.480739, Test RMSE: 1.344201\n",
      "SVR - Train R2: 0.918185, Test R2: 0.941527\n",
      "Training XGBoost...\n",
      "XGBoost - Train RMSE: 0.513554, Test RMSE: 1.207033\n",
      "XGBoost - Train R2: 0.990159, Test R2: 0.952852\n",
      "\n",
      "Results Table:\n"
     ]
    },
    {
     "data": {
      "text/html": [
       "<div>\n",
       "<style scoped>\n",
       "    .dataframe tbody tr th:only-of-type {\n",
       "        vertical-align: middle;\n",
       "    }\n",
       "\n",
       "    .dataframe tbody tr th {\n",
       "        vertical-align: top;\n",
       "    }\n",
       "\n",
       "    .dataframe thead th {\n",
       "        text-align: right;\n",
       "    }\n",
       "</style>\n",
       "<table border=\"1\" class=\"dataframe\">\n",
       "  <thead>\n",
       "    <tr style=\"text-align: right;\">\n",
       "      <th></th>\n",
       "      <th>Model</th>\n",
       "      <th>Train RMSE</th>\n",
       "      <th>Test RMSE</th>\n",
       "      <th>Train R2</th>\n",
       "      <th>Test R2</th>\n",
       "    </tr>\n",
       "  </thead>\n",
       "  <tbody>\n",
       "    <tr>\n",
       "      <th>0</th>\n",
       "      <td>Linear Regression</td>\n",
       "      <td>1.635892</td>\n",
       "      <td>1.705215</td>\n",
       "      <td>0.900142</td>\n",
       "      <td>0.905901</td>\n",
       "    </tr>\n",
       "    <tr>\n",
       "      <th>1</th>\n",
       "      <td>Ridge Regression</td>\n",
       "      <td>1.636293</td>\n",
       "      <td>1.707447</td>\n",
       "      <td>0.900093</td>\n",
       "      <td>0.905655</td>\n",
       "    </tr>\n",
       "    <tr>\n",
       "      <th>2</th>\n",
       "      <td>Lasso Regression</td>\n",
       "      <td>1.705005</td>\n",
       "      <td>1.810350</td>\n",
       "      <td>0.891526</td>\n",
       "      <td>0.893940</td>\n",
       "    </tr>\n",
       "    <tr>\n",
       "      <th>3</th>\n",
       "      <td>Decision Tree Regression</td>\n",
       "      <td>0.000000</td>\n",
       "      <td>1.713257</td>\n",
       "      <td>1.000000</td>\n",
       "      <td>0.905011</td>\n",
       "    </tr>\n",
       "    <tr>\n",
       "      <th>4</th>\n",
       "      <td>Random Forest Regression</td>\n",
       "      <td>0.485806</td>\n",
       "      <td>1.259075</td>\n",
       "      <td>0.991194</td>\n",
       "      <td>0.948699</td>\n",
       "    </tr>\n",
       "    <tr>\n",
       "      <th>5</th>\n",
       "      <td>SVR</td>\n",
       "      <td>1.480739</td>\n",
       "      <td>1.344201</td>\n",
       "      <td>0.918185</td>\n",
       "      <td>0.941527</td>\n",
       "    </tr>\n",
       "    <tr>\n",
       "      <th>6</th>\n",
       "      <td>XGBoost</td>\n",
       "      <td>0.513554</td>\n",
       "      <td>1.207033</td>\n",
       "      <td>0.990159</td>\n",
       "      <td>0.952852</td>\n",
       "    </tr>\n",
       "  </tbody>\n",
       "</table>\n",
       "</div>"
      ],
      "text/plain": [
       "                      Model  Train RMSE  Test RMSE  Train R2   Test R2\n",
       "0         Linear Regression    1.635892   1.705215  0.900142  0.905901\n",
       "1          Ridge Regression    1.636293   1.707447  0.900093  0.905655\n",
       "2          Lasso Regression    1.705005   1.810350  0.891526  0.893940\n",
       "3  Decision Tree Regression    0.000000   1.713257  1.000000  0.905011\n",
       "4  Random Forest Regression    0.485806   1.259075  0.991194  0.948699\n",
       "5                       SVR    1.480739   1.344201  0.918185  0.941527\n",
       "6                   XGBoost    0.513554   1.207033  0.990159  0.952852"
      ]
     },
     "execution_count": 14,
     "metadata": {},
     "output_type": "execute_result"
    }
   ],
   "source": [
    "#split data into features and target\n",
    "X = df.drop(columns=['Sales'])\n",
    "y = df['Sales']\n",
    "\n",
    "X_train, X_test, y_train, y_test = train_test_split(X, y, test_size=0.2, random_state=42)\n",
    "\n",
    "# Define models and their hyperparameter grids\n",
    "models = {\n",
    "    'Linear Regression': LinearRegression(),\n",
    "    'Ridge Regression': GridSearchCV(estimator=Ridge(), param_grid={'alpha': [0.1, 1, 10, 100]}, cv=5),\n",
    "    'Lasso Regression': GridSearchCV(estimator=Lasso(), param_grid={'alpha': [0.1, 1, 10, 100]}, cv=5),\n",
    "    'Decision Tree Regression': GridSearchCV(estimator=DecisionTreeRegressor(), param_grid={'max_depth': [None, 10, 20, 30], 'min_samples_split': [2, 5, 10]}, cv=5),\n",
    "    'Random Forest Regression': GridSearchCV(estimator=RandomForestRegressor(), param_grid={'n_estimators': [50, 100, 200], 'max_depth': [None, 10, 20, 30], 'min_samples_split': [2, 5, 10]}, cv=5),\n",
    "    'SVR': GridSearchCV(estimator=SVR(), param_grid={'C': [0.1, 1, 10, 100], 'gamma': [0.01, 0.1, 1, 10], 'kernel': ['rbf']}, cv=5),\n",
    "    'XGBoost': GridSearchCV(estimator=xgb.XGBRegressor(), param_grid={\n",
    "        'n_estimators': [50, 100, 200],\n",
    "        'max_depth': [3, 6, 9],\n",
    "        'learning_rate': [0.01, 0.1, 0.2],\n",
    "        'alpha': [0, 0.1, 1]\n",
    "    }, cv=5)\n",
    "}\n",
    "\n",
    "# Store results\n",
    "results = []\n",
    "\n",
    "# Train and evaluate models\n",
    "for name, model in models.items():\n",
    "    print(f\"Training {name}...\")\n",
    "    model.fit(X_train, y_train)\n",
    "    \n",
    "    # Predict on training and test sets\n",
    "    y_train_pred = model.predict(X_train)\n",
    "    y_test_pred = model.predict(X_test)\n",
    "    \n",
    "    # Calculate metrics\n",
    "    train_rmse = np.sqrt(mean_squared_error(y_train, y_train_pred))\n",
    "    test_rmse = np.sqrt(mean_squared_error(y_test, y_test_pred))\n",
    "    train_r2 = r2_score(y_train, y_train_pred)\n",
    "    test_r2 = r2_score(y_test, y_test_pred)\n",
    "    \n",
    "    # Store results\n",
    "    results.append({\n",
    "        'Model': name,\n",
    "        'Train RMSE': train_rmse,\n",
    "        'Test RMSE': test_rmse,\n",
    "        'Train R2': train_r2,\n",
    "        'Test R2': test_r2\n",
    "    })\n",
    "    \n",
    "    print(f\"{name} - Train RMSE: {train_rmse:.6f}, Test RMSE: {test_rmse:.6f}\")\n",
    "    print(f\"{name} - Train R2: {train_r2:.6f}, Test R2: {test_r2:.6f}\")\n",
    "\n",
    "# Create a DataFrame from the results\n",
    "results_df = pd.DataFrame(results)\n",
    "\n",
    "# Display results in table format\n",
    "print(\"\\nResults Table:\")\n",
    "results_df"
   ]
  },
  {
   "cell_type": "code",
   "execution_count": null,
   "id": "daef4bdd",
   "metadata": {
    "papermill": {
     "duration": 0.013027,
     "end_time": "2024-08-09T21:07:01.981120",
     "exception": false,
     "start_time": "2024-08-09T21:07:01.968093",
     "status": "completed"
    },
    "tags": []
   },
   "outputs": [],
   "source": []
  }
 ],
 "metadata": {
  "kaggle": {
   "accelerator": "none",
   "dataSources": [
    {
     "datasetId": 133357,
     "sourceId": 317184,
     "sourceType": "datasetVersion"
    }
   ],
   "dockerImageVersionId": 30746,
   "isGpuEnabled": false,
   "isInternetEnabled": true,
   "language": "python",
   "sourceType": "notebook"
  },
  "kernelspec": {
   "display_name": "Python 3",
   "language": "python",
   "name": "python3"
  },
  "language_info": {
   "codemirror_mode": {
    "name": "ipython",
    "version": 3
   },
   "file_extension": ".py",
   "mimetype": "text/x-python",
   "name": "python",
   "nbconvert_exporter": "python",
   "pygments_lexer": "ipython3",
   "version": "3.10.13"
  },
  "papermill": {
   "default_parameters": {},
   "duration": 92.660319,
   "end_time": "2024-08-09T21:07:02.919793",
   "environment_variables": {},
   "exception": null,
   "input_path": "__notebook__.ipynb",
   "output_path": "__notebook__.ipynb",
   "parameters": {},
   "start_time": "2024-08-09T21:05:30.259474",
   "version": "2.5.0"
  }
 },
 "nbformat": 4,
 "nbformat_minor": 5
}
